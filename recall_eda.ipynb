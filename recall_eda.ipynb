{
 "cells": [
  {
   "cell_type": "code",
   "execution_count": 1,
   "metadata": {},
   "outputs": [],
   "source": [
    "columns = []\n",
    "with open('./data/RCL_headers.txt', 'r', encoding='utf-8') as file:\n",
    "    for line in file:\n",
    "        columns.append(line.strip())"
   ]
  },
  {
   "cell_type": "code",
   "execution_count": 2,
   "metadata": {},
   "outputs": [
    {
     "name": "stderr",
     "output_type": "stream",
     "text": [
      "100%|██████████| 248656/248656 [00:02<00:00, 124230.55it/s]\n"
     ]
    }
   ],
   "source": [
    "from tqdm import tqdm\n",
    "\n",
    "dataset = []\n",
    "with open('./data/FLAT_RCL.txt', 'r', encoding='utf-8') as file:\n",
    "    for line in tqdm(file, total=248656):\n",
    "            splits = line.split('\\t')\n",
    "            temp = {}\n",
    "            for idx in range(len(splits)):\n",
    "                temp[columns[idx]] = splits[idx]\n",
    "            dataset.append(temp)"
   ]
  },
  {
   "cell_type": "code",
   "execution_count": 3,
   "metadata": {},
   "outputs": [],
   "source": [
    "import pandas as pd \n",
    "\n",
    "df = pd.DataFrame(dataset)"
   ]
  },
  {
   "cell_type": "code",
   "execution_count": 7,
   "metadata": {},
   "outputs": [
    {
     "data": {
      "text/plain": [
       "0         FORD MOTOR COMPANY\n",
       "1         FORD MOTOR COMPANY\n",
       "2                JAYCO, INC.\n",
       "3         MONACO COACH CORP.\n",
       "4         MONACO COACH CORP.\n",
       "                 ...        \n",
       "248651      Alliance RV, LLC\n",
       "248652      Alliance RV, LLC\n",
       "248653    Forest River, Inc.\n",
       "248654    Forest River, Inc.\n",
       "248655    Forest River, Inc.\n",
       "Name: MFGNAME, Length: 248656, dtype: object"
      ]
     },
     "execution_count": 7,
     "metadata": {},
     "output_type": "execute_result"
    }
   ],
   "source": [
    "df['MFGNAME']"
   ]
  },
  {
   "cell_type": "code",
   "execution_count": 6,
   "metadata": {},
   "outputs": [
    {
     "name": "stdout",
     "output_type": "stream",
     "text": [
      "<class 'pandas.core.frame.DataFrame'>\n",
      "RangeIndex: 248656 entries, 0 to 248655\n",
      "Data columns (total 27 columns):\n",
      " #   Column             Non-Null Count   Dtype \n",
      "---  ------             --------------   ----- \n",
      " 0   RECORD_ID          248656 non-null  object\n",
      " 1   CAMPNO             248656 non-null  object\n",
      " 2   MAKETXT            248656 non-null  object\n",
      " 3   MODELTXT           248656 non-null  object\n",
      " 4   YEARTXT            248656 non-null  object\n",
      " 5   MFGCAMPNO          248656 non-null  object\n",
      " 6   COMPNAME           248656 non-null  object\n",
      " 7   MFGNAME            248656 non-null  object\n",
      " 8   BGMAN              248656 non-null  object\n",
      " 9   ENDMAN             248656 non-null  object\n",
      " 10  RCLTYPECD          248656 non-null  object\n",
      " 11  POTAFF             248656 non-null  object\n",
      " 12  ODATE              248656 non-null  object\n",
      " 13  INFLUENCED_BY      248656 non-null  object\n",
      " 14  MFGTXT             248656 non-null  object\n",
      " 15  RCDATE             248656 non-null  object\n",
      " 16  DATEA              248656 non-null  object\n",
      " 17  RPNO               248656 non-null  object\n",
      " 18  FMVSS              248656 non-null  object\n",
      " 19  DESC_DEFECT        248656 non-null  object\n",
      " 20  CONEQUENCE_DEFECT  248656 non-null  object\n",
      " 21  CORRECTIVE_ACTION  248656 non-null  object\n",
      " 22  NOTES              248656 non-null  object\n",
      " 23  RCL_CMPT_ID        248656 non-null  object\n",
      " 24  MFR_COMP_NAME      248656 non-null  object\n",
      " 25  MFR_COMP_DESC      248656 non-null  object\n",
      " 26  MFR_COMP_PTNO      248656 non-null  object\n",
      "dtypes: object(27)\n",
      "memory usage: 51.2+ MB\n"
     ]
    }
   ],
   "source": [
    "df.info()"
   ]
  },
  {
   "cell_type": "code",
   "execution_count": null,
   "metadata": {},
   "outputs": [],
   "source": [
    "df_subset = df[df.MFR_NAME.isin(['Ford Motor Company', 'General Motors, LLC', 'Tesla, Inc.', 'Hyundai Motor America', 'Toyota Motor Corporation','Honda (American Honda Motor Co.)'])].copy()\n",
    "df_subset.info()"
   ]
  }
 ],
 "metadata": {
  "kernelspec": {
   "display_name": "Python 3",
   "language": "python",
   "name": "python3"
  },
  "language_info": {
   "codemirror_mode": {
    "name": "ipython",
    "version": 3
   },
   "file_extension": ".py",
   "mimetype": "text/x-python",
   "name": "python",
   "nbconvert_exporter": "python",
   "pygments_lexer": "ipython3",
   "version": "3.11.2"
  }
 },
 "nbformat": 4,
 "nbformat_minor": 2
}
