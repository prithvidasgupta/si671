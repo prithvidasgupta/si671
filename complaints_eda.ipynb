{
 "cells": [
  {
   "cell_type": "code",
   "execution_count": 8,
   "metadata": {},
   "outputs": [],
   "source": [
    "columns = []\n",
    "with open('./data/headers.txt', 'r', encoding='utf-8') as file:\n",
    "    for line in file:\n",
    "        columns.append(line.strip())"
   ]
  },
  {
   "cell_type": "code",
   "execution_count": 9,
   "metadata": {},
   "outputs": [
    {
     "name": "stderr",
     "output_type": "stream",
     "text": [
      "1937674it [00:25, 75214.90it/s] \n"
     ]
    }
   ],
   "source": [
    "from tqdm import tqdm\n",
    "\n",
    "dataset = []\n",
    "with open('./data/FLAT_CMPL.txt', 'r', encoding='utf-8') as file:\n",
    "    for line in tqdm(file):\n",
    "            splits = line.split('\\t')\n",
    "            temp = {}\n",
    "            for idx in range(len(splits)):\n",
    "                temp[columns[idx]] = splits[idx]\n",
    "            dataset.append(temp)"
   ]
  },
  {
   "cell_type": "code",
   "execution_count": 10,
   "metadata": {},
   "outputs": [],
   "source": [
    "import pandas as pd \n",
    "\n",
    "df = pd.DataFrame(dataset)"
   ]
  },
  {
   "cell_type": "code",
   "execution_count": 11,
   "metadata": {},
   "outputs": [
    {
     "data": {
      "text/plain": [
       "array(['FUEL LEAKED FROM FUEL TANK AREA, EMITTING STRONG FUMES IN GARAGE.  *AK',\n",
       "       'ERRATIC OPERATION OF ELECTRONIC GAS GAUGE. UPON STARTING A GALLON OF GAS POSSIBLY IS LOST.  TT',\n",
       "       'AIR BAG; THREE TIMES IN DEALERSHIP FOR SRS SIGNAL CONTINUOUSLY ILLUMINATING. ZONE REP ALSO CAME TO INVESTIGATE WHY LIGHT STAYS ON. PLEASE DESCRIBE DETAILS.  TT',\n",
       "       'GAS TANK MOUNTED OUT SIDE THE FRAME RAIL.  TT',\n",
       "       'STEERING LOCKED UP WHILE DRIVING, REPLACED RACK AND PUMP, TO NO AVAIL.  TT',\n",
       "       \"CAR WAS IN AN ACCIDENT AND THE DRIVER SIDE AUTOMATIC SEAT BELT DIDN'T RESTRAIN, RESULTING IN AN INJURY, CONSUMER DOESN'T HAVE THIS CAR ANYMORE, HAS NEW CAR.  TT\",\n",
       "       'WHILE DRIVING EXPERIENCES POWER STEERING FAILURE, RENDERING STEERING CAPABILITY INOPERATIVE.  TT',\n",
       "       'EGR VALVE FAILED, CAUSING VEHICLE TO STALL.   *AK',\n",
       "       'STEERING WHEEL BOLTS LOOSENEDAND ROCKED BACK AND FORTH, RUINING THE THREADS AND CAUSING BOLTS TO FALL OUT, MAKING IT DIFFICULT TO TURN WHEEL.  AK',\n",
       "       'REAR BEAM SUPPORT BY THE FRAME CRACKED, RESULTING IN CONTROL LOST AT 10MPH.  TT'],\n",
       "      dtype=object)"
      ]
     },
     "execution_count": 11,
     "metadata": {},
     "output_type": "execute_result"
    }
   ],
   "source": [
    "df[df.MFR_NAME.isin(['Ford Motor Company', 'General Motors, LLC', 'Tesla, Inc.', 'Hyundai Motor America', 'Toyota Motor Corporation','Honda (American Honda Motor Co.)'])].CDESCR.values[:10]"
   ]
  },
  {
   "cell_type": "code",
   "execution_count": 17,
   "metadata": {},
   "outputs": [
    {
     "data": {
      "text/plain": [
       "1502283    PR\n",
       "Name: STATE, dtype: object"
      ]
     },
     "execution_count": 17,
     "metadata": {},
     "output_type": "execute_result"
    }
   ],
   "source": [
    "pd.set_option('display.max_colwidth', None) \n",
    "df[df['ODINO'] == '11132058']['STATE']"
   ]
  },
  {
   "cell_type": "code",
   "execution_count": null,
   "metadata": {},
   "outputs": [],
   "source": []
  }
 ],
 "metadata": {
  "kernelspec": {
   "display_name": "Python 3",
   "language": "python",
   "name": "python3"
  },
  "language_info": {
   "codemirror_mode": {
    "name": "ipython",
    "version": 3
   },
   "file_extension": ".py",
   "mimetype": "text/x-python",
   "name": "python",
   "nbconvert_exporter": "python",
   "pygments_lexer": "ipython3",
   "version": "3.11.2"
  }
 },
 "nbformat": 4,
 "nbformat_minor": 2
}
